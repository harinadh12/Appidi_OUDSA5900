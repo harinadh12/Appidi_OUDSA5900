{
 "cells": [
  {
   "cell_type": "code",
   "execution_count": null,
   "metadata": {},
   "outputs": [],
   "source": []
  },
  {
   "cell_type": "markdown",
   "metadata": {},
   "source": [
    "* Raw sensor data was recorded with 2 devices:\n",
    "1. Chest-worn device(RespiBAN) \n",
    "2. Wrist-worn device(Empatica E4)\n",
    "* The RespiBAN device provides the following sensor data: electrocardiogram (ECG), electrodermal activity (EDA), electromyogram (EMG), respiration, body temperature, and three-axis acceleration. All signals are sampled at 700 Hz.\n",
    "\n",
    "\n",
    "* Empatica E4 device provides the following sensor data: blood volume pulse (BVP, 64 Hz), electrodermal activity (EDA, 4 Hz), body temperature (4 Hz), and three-axis acceleration (32 Hz)."
   ]
  },
  {
   "cell_type": "markdown",
   "metadata": {},
   "source": [
    "## Steps for Data Cleaning and get structured data"
   ]
  },
  {
   "cell_type": "markdown",
   "metadata": {},
   "source": []
  },
  {
   "cell_type": "code",
   "execution_count": 1,
   "metadata": {},
   "outputs": [
    {
     "name": "stderr",
     "output_type": "stream",
     "text": [
      "2022-07-15 01:08:41.214435: W tensorflow/stream_executor/platform/default/dso_loader.cc:64] Could not load dynamic library 'libcudart.so.11.0'; dlerror: libcudart.so.11.0: cannot open shared object file: No such file or directory\n",
      "2022-07-15 01:08:41.214526: I tensorflow/stream_executor/cuda/cudart_stub.cc:29] Ignore above cudart dlerror if you do not have a GPU set up on your machine.\n"
     ]
    }
   ],
   "source": [
    "import pickle\n",
    "import numpy as np\n",
    "import pandas as pd\n",
    "import matplotlib.pyplot as plt\n",
    "import tensorflow as tf\n",
    "import os\n",
    "import pathlib\n",
    "import shutil"
   ]
  },
  {
   "cell_type": "code",
   "execution_count": 18,
   "metadata": {},
   "outputs": [],
   "source": [
    "with open('/home/harinadh_asr2/project/WESAD/S7/S7.pkl', 'rb') as f:\n",
    "    data = pickle.load(f, encoding='latin1')"
   ]
  },
  {
   "cell_type": "code",
   "execution_count": 12,
   "metadata": {},
   "outputs": [
    {
     "data": {
      "text/plain": [
       "1746.0"
      ]
     },
     "execution_count": 12,
     "metadata": {},
     "output_type": "execute_result"
    }
   ],
   "source": [
    "data['signal']['chest']['EMG'].shape[0]/2100\n",
    "# 'ACC' : 3, 'ECG' 1: , 'EDA' : 1, 'EMG': 1, 'RESP': 1, 'Temp': 1"
   ]
  },
  {
   "cell_type": "code",
   "execution_count": 19,
   "metadata": {},
   "outputs": [
    {
     "data": {
      "text/plain": [
       "{'ACC': array([[ 1.06960011, -0.014     ,  1.4612    ],\n",
       "        [ 1.06539989, -0.01020002,  1.42219996],\n",
       "        [ 1.06539989,  0.00419998,  1.32019997],\n",
       "        ...,\n",
       "        [ 0.84660006, -0.10820001, -0.05739999],\n",
       "        [ 0.84220004, -0.11379999, -0.08139998],\n",
       "        [ 0.83340001, -0.11519998, -0.10259998]]),\n",
       " 'ECG': array([[-0.01922607],\n",
       "        [-0.01693726],\n",
       "        [-0.01615906],\n",
       "        ...,\n",
       "        [ 0.08638   ],\n",
       "        [ 0.13993835],\n",
       "        [ 0.23899841]]),\n",
       " 'EMG': array([[-0.04884338],\n",
       "        [-0.00700378],\n",
       "        [ 0.07177734],\n",
       "        ...,\n",
       "        [ 0.19976807],\n",
       "        [ 0.22764587],\n",
       "        [ 0.21807861]]),\n",
       " 'EDA': array([[12.50686646],\n",
       "        [12.46871948],\n",
       "        [12.50686646],\n",
       "        ...,\n",
       "        [13.09013367],\n",
       "        [13.08135986],\n",
       "        [13.08021545]]),\n",
       " 'Temp': array([[33.99353 ],\n",
       "        [33.93268 ],\n",
       "        [33.970703],\n",
       "        ...,\n",
       "        [34.9433  ],\n",
       "        [34.940247],\n",
       "        [34.947906]], dtype=float32),\n",
       " 'Resp': array([[1.83258057],\n",
       "        [1.83563232],\n",
       "        [1.85699463],\n",
       "        ...,\n",
       "        [0.80413818],\n",
       "        [0.83465576],\n",
       "        [0.83770752]])}"
      ]
     },
     "execution_count": 19,
     "metadata": {},
     "output_type": "execute_result"
    }
   ],
   "source": [
    "data['signal']['chest']"
   ]
  },
  {
   "cell_type": "code",
   "execution_count": null,
   "metadata": {},
   "outputs": [],
   "source": [
    "# data['signal']['wrist']['BVP'].shape\n",
    "# np.sum()/700\n",
    "2198*700\n",
    "# data = data['label'][data['label']==3]\n",
    "for i in range(0,len(data),700):\n",
    "    print(np.mean(data[i:i+700]))"
   ]
  },
  {
   "cell_type": "code",
   "execution_count": 24,
   "metadata": {},
   "outputs": [
    {
     "data": {
      "text/plain": [
       "373"
      ]
     },
     "execution_count": 24,
     "metadata": {},
     "output_type": "execute_result"
    }
   ],
   "source": [
    "import math\n",
    "\n",
    "math.ceil(len(data)/700)"
   ]
  },
  {
   "cell_type": "code",
   "execution_count": 8,
   "metadata": {},
   "outputs": [],
   "source": [
    "dataset_path = '/home/harinadh_asr2/project/WESAD'"
   ]
  },
  {
   "cell_type": "code",
   "execution_count": null,
   "metadata": {},
   "outputs": [],
   "source": [
    "pickle_files = []\n",
    "for root, dirnames, filenames in os.walk(dataset_path, topdown=True):\n",
    "    # print(dirnames)\n",
    "    for file_name in filenames :\n",
    "        if file_name.endswith('.pkl'):\n",
    "            print(file_name)\n",
    "            pickle_files.append(os.path.join(root,file_name))"
   ]
  },
  {
   "cell_type": "code",
   "execution_count": 15,
   "metadata": {},
   "outputs": [],
   "source": [
    "# for file in pickle_files:"
   ]
  },
  {
   "cell_type": "code",
   "execution_count": 16,
   "metadata": {},
   "outputs": [],
   "source": [
    "class read_subject_data:\n",
    "    def __init__(self, file_path, subject_no):\n",
    "        \"\"\" Read Subject data from pkl file\"\"\"\n",
    "        self.subject_no=subject_no\n",
    "        with open(file_path, 'rb') as file:\n",
    "            data=pickle.load(file, encoding='latin1')\n",
    "        self.data= data\n",
    "        self.keys=self.data.keys() #['label', 'subject', 'signal']\n",
    "        self.signal_keys=self.data['signal'].keys() #['wrist', 'chest']\n",
    "        self.chest_sensor_keys = self.data['signal']['chest'].keys() #['ACC', 'ECG', 'EDA', 'EMG', 'Resp', 'Temp']\n",
    "        self.wrist_sensor_keys = self.data['signal']['wrist'].keys() # ['ACC', 'BVP', 'EDA', 'TEMP']\n",
    "        self.labels = self.data['label']\n",
    "    \n",
    "    def get_wrist_data(self):\n",
    "        wrist_data = self.data.get('signal',{}).get('wrist',[])\n",
    "        return wrist_data\n",
    "    \n",
    "    def get_chest_data(self):\n",
    "        chest_data = self.data.get('signal').get('chest', [])\n",
    "        return chest_data\n",
    "    \n",
    "    def extract_chest_features(self, ):\n",
    "        pass"
   ]
  },
  {
   "cell_type": "code",
   "execution_count": 17,
   "metadata": {},
   "outputs": [
    {
     "data": {
      "text/plain": [
       "dict_keys(['ACC', 'ECG', 'EMG', 'EDA', 'Temp', 'Resp'])"
      ]
     },
     "execution_count": 17,
     "metadata": {},
     "output_type": "execute_result"
    }
   ],
   "source": [
    "data['signal']['chest'].keys()"
   ]
  },
  {
   "cell_type": "code",
   "execution_count": 28,
   "metadata": {},
   "outputs": [
    {
     "data": {
      "text/plain": [
       "(4255300, 3)"
      ]
     },
     "execution_count": 28,
     "metadata": {},
     "output_type": "execute_result"
    }
   ],
   "source": [
    "data['signal']['chest']['ACC'].shape"
   ]
  },
  {
   "cell_type": "code",
   "execution_count": 27,
   "metadata": {},
   "outputs": [
    {
     "data": {
      "text/plain": [
       "(4255300, 1)"
      ]
     },
     "execution_count": 27,
     "metadata": {},
     "output_type": "execute_result"
    }
   ],
   "source": [
    "data['signal']['chest']['ECG'].shape"
   ]
  },
  {
   "cell_type": "code",
   "execution_count": 26,
   "metadata": {},
   "outputs": [
    {
     "data": {
      "text/plain": [
       "(4255300, 1)"
      ]
     },
     "execution_count": 26,
     "metadata": {},
     "output_type": "execute_result"
    }
   ],
   "source": [
    "data['signal']['chest']['EMG'].shape"
   ]
  },
  {
   "cell_type": "code",
   "execution_count": 25,
   "metadata": {},
   "outputs": [
    {
     "data": {
      "text/plain": [
       "(4255300, 1)"
      ]
     },
     "execution_count": 25,
     "metadata": {},
     "output_type": "execute_result"
    }
   ],
   "source": [
    "data['signal']['chest']['EDA'].shape"
   ]
  },
  {
   "cell_type": "code",
   "execution_count": 24,
   "metadata": {},
   "outputs": [
    {
     "data": {
      "text/plain": [
       "(4255300, 1)"
      ]
     },
     "execution_count": 24,
     "metadata": {},
     "output_type": "execute_result"
    }
   ],
   "source": [
    "data['signal']['chest']['Resp'].shape"
   ]
  },
  {
   "cell_type": "code",
   "execution_count": 29,
   "metadata": {},
   "outputs": [
    {
     "data": {
      "text/plain": [
       "(4255300, 1)"
      ]
     },
     "execution_count": 29,
     "metadata": {},
     "output_type": "execute_result"
    }
   ],
   "source": [
    "data['signal']['chest']['Temp'].shape"
   ]
  },
  {
   "cell_type": "code",
   "execution_count": 1,
   "metadata": {},
   "outputs": [
    {
     "data": {
      "text/plain": [
       "6079.0"
      ]
     },
     "execution_count": 1,
     "metadata": {},
     "output_type": "execute_result"
    }
   ],
   "source": [
    "# np.sum(data['label'][0:700])\n",
    "4255300/700"
   ]
  },
  {
   "cell_type": "code",
   "execution_count": 45,
   "metadata": {},
   "outputs": [
    {
     "data": {
      "text/plain": [
       "700"
      ]
     },
     "execution_count": 45,
     "metadata": {},
     "output_type": "execute_result"
    }
   ],
   "source": [
    "np.sum(data['label'][510*700:511*700])"
   ]
  },
  {
   "cell_type": "code",
   "execution_count": 27,
   "metadata": {},
   "outputs": [],
   "source": [
    "chest_data_dict = data['signal']['chest']"
   ]
  },
  {
   "cell_type": "code",
   "execution_count": 28,
   "metadata": {},
   "outputs": [],
   "source": [
    "chest_data = np.concatenate([chest_data_dict[key] for key in chest_data_dict], axis=1)"
   ]
  },
  {
   "cell_type": "code",
   "execution_count": 29,
   "metadata": {},
   "outputs": [
    {
     "data": {
      "text/plain": [
       "(4144000, 8)"
      ]
     },
     "execution_count": 29,
     "metadata": {},
     "output_type": "execute_result"
    }
   ],
   "source": [
    "chest_data.shape"
   ]
  },
  {
   "cell_type": "code",
   "execution_count": 31,
   "metadata": {},
   "outputs": [
    {
     "data": {
      "text/plain": [
       "5746.001428571429"
      ]
     },
     "execution_count": 31,
     "metadata": {},
     "output_type": "execute_result"
    }
   ],
   "source": [
    "chest_data\n",
    "filter_criteria = np.where(data['label']<5)\n",
    "filter_criteria[0].shape[0]/700"
   ]
  },
  {
   "cell_type": "code",
   "execution_count": 34,
   "metadata": {},
   "outputs": [
    {
     "data": {
      "text/plain": [
       "(4144000,)"
      ]
     },
     "execution_count": 34,
     "metadata": {},
     "output_type": "execute_result"
    }
   ],
   "source": [
    "data['label'].shape"
   ]
  },
  {
   "cell_type": "code",
   "execution_count": 68,
   "metadata": {},
   "outputs": [
    {
     "data": {
      "text/plain": [
       "2739"
      ]
     },
     "execution_count": 68,
     "metadata": {},
     "output_type": "execute_result"
    }
   ],
   "source": [
    "\n",
    "np.where(data['label']==0)[0].shape[0]//700"
   ]
  },
  {
   "cell_type": "code",
   "execution_count": null,
   "metadata": {},
   "outputs": [],
   "source": []
  },
  {
   "cell_type": "code",
   "execution_count": null,
   "metadata": {},
   "outputs": [],
   "source": []
  },
  {
   "cell_type": "code",
   "execution_count": 60,
   "metadata": {},
   "outputs": [
    {
     "data": {
      "text/plain": [
       "(array([ 214583,  214584,  214585, ..., 1015380, 1015381, 1015382]),)"
      ]
     },
     "execution_count": 60,
     "metadata": {},
     "output_type": "execute_result"
    }
   ],
   "source": [
    "np.where(data['label']==1)"
   ]
  },
  {
   "cell_type": "code",
   "execution_count": 62,
   "metadata": {},
   "outputs": [
    {
     "data": {
      "text/plain": [
       "(array([1]),)"
      ]
     },
     "execution_count": 62,
     "metadata": {},
     "output_type": "execute_result"
    }
   ],
   "source": [
    "a = np.array([1,2,3])\n",
    "np.where(a==2)"
   ]
  },
  {
   "cell_type": "code",
   "execution_count": 58,
   "metadata": {},
   "outputs": [
    {
     "data": {
      "text/plain": [
       "array([1, 2, 3])"
      ]
     },
     "execution_count": 58,
     "metadata": {},
     "output_type": "execute_result"
    }
   ],
   "source": [
    "np.asarray([1,2,3])"
   ]
  },
  {
   "cell_type": "code",
   "execution_count": 74,
   "metadata": {},
   "outputs": [
    {
     "data": {
      "text/plain": [
       "(12495000,)"
      ]
     },
     "execution_count": 74,
     "metadata": {},
     "output_type": "execute_result"
    }
   ],
   "source": [
    "chest_data_dict[\"ACC\"][filter_criteria]"
   ]
  },
  {
   "cell_type": "code",
   "execution_count": 75,
   "metadata": {},
   "outputs": [
    {
     "data": {
      "text/plain": [
       "dict_keys(['ACC', 'ECG', 'EMG', 'EDA', 'Temp', 'Resp'])"
      ]
     },
     "execution_count": 75,
     "metadata": {},
     "output_type": "execute_result"
    }
   ],
   "source": [
    "chest_data_dict.keys()"
   ]
  },
  {
   "cell_type": "code",
   "execution_count": 84,
   "metadata": {},
   "outputs": [],
   "source": [
    "def aggreage_feature(feature, frequency=700):\n",
    "    mean_features = np.zeros(len(feature)//frequency)\n",
    "    std_features = np.zeros(len(feature)//frequency)\n",
    "    max_features = np.zeros(len(feature)//frequency)\n",
    "    min_features = np.zeros(len(feature)//frequency)\n",
    "\n",
    "    idx =0\n",
    "    for i in range(0, len(feature),frequency):\n",
    "        mean_features[idx] = np.mean(feature[i:i+700])\n",
    "        std_features[idx] = np.std(feature[i:i+700])\n",
    "        max_features[idx] = np.amax(feature[i:i+700])\n",
    "        min_features[idx] = np.amin(feature[i:i+700])\n",
    "        idx+=1\n",
    "    \n",
    "    return np.column_stack([max_features, min_features, std_features, mean_features])"
   ]
  },
  {
   "cell_type": "code",
   "execution_count": 17,
   "metadata": {},
   "outputs": [
    {
     "data": {
      "text/plain": [
       "(260401,)"
      ]
     },
     "execution_count": 17,
     "metadata": {},
     "output_type": "execute_result"
    }
   ],
   "source": [
    "# chest_data[filter_criteria].shape\n",
    "data"
   ]
  },
  {
   "cell_type": "code",
   "execution_count": 107,
   "metadata": {},
   "outputs": [
    {
     "data": {
      "text/plain": [
       "(4165000,)"
      ]
     },
     "execution_count": 107,
     "metadata": {},
     "output_type": "execute_result"
    }
   ],
   "source": [
    "chest_data[filter_criteria][:,0].shape"
   ]
  },
  {
   "cell_type": "code",
   "execution_count": 109,
   "metadata": {},
   "outputs": [
    {
     "data": {
      "text/plain": [
       "(5950, 4)"
      ]
     },
     "execution_count": 109,
     "metadata": {},
     "output_type": "execute_result"
    }
   ],
   "source": [
    "aggreage_feature(chest_data[filter_criteria][:,0]).shape"
   ]
  },
  {
   "cell_type": "code",
   "execution_count": null,
   "metadata": {},
   "outputs": [],
   "source": []
  },
  {
   "cell_type": "code",
   "execution_count": null,
   "metadata": {},
   "outputs": [],
   "source": []
  },
  {
   "cell_type": "code",
   "execution_count": null,
   "metadata": {},
   "outputs": [],
   "source": []
  },
  {
   "cell_type": "code",
   "execution_count": 110,
   "metadata": {},
   "outputs": [],
   "source": [
    "data = np.apply_along_axis(aggreage_feature,0,chest_data[filter_criteria])"
   ]
  },
  {
   "cell_type": "code",
   "execution_count": 120,
   "metadata": {},
   "outputs": [
    {
     "data": {
      "text/plain": [
       "(5950, 32)"
      ]
     },
     "execution_count": 120,
     "metadata": {},
     "output_type": "execute_result"
    }
   ],
   "source": [
    "# b = np.array([[1,2,3], [4,5,6]])\n",
    "# def my_func(arr):\n",
    "#     return np.mean(arr)\n",
    "\n",
    "# np.apply_along_axis(my_func, 0, b)\n",
    "\n",
    "data.reshape(data.shape[0],-1).shape"
   ]
  },
  {
   "cell_type": "code",
   "execution_count": 91,
   "metadata": {},
   "outputs": [
    {
     "data": {
      "text/plain": [
       "(4165000, 8)"
      ]
     },
     "execution_count": 91,
     "metadata": {},
     "output_type": "execute_result"
    }
   ],
   "source": [
    "chest_data[filter_criteria].shape"
   ]
  },
  {
   "cell_type": "code",
   "execution_count": 101,
   "metadata": {},
   "outputs": [
    {
     "data": {
      "text/plain": [
       "(2, 3)"
      ]
     },
     "execution_count": 101,
     "metadata": {},
     "output_type": "execute_result"
    }
   ],
   "source": [
    "# 4165000/700\n",
    "b.shape"
   ]
  },
  {
   "cell_type": "code",
   "execution_count": 118,
   "metadata": {},
   "outputs": [
    {
     "data": {
      "text/plain": [
       "array([[1, 2, 3],\n",
       "       [4, 5, 6]])"
      ]
     },
     "execution_count": 118,
     "metadata": {},
     "output_type": "execute_result"
    }
   ],
   "source": [
    "b"
   ]
  },
  {
   "cell_type": "code",
   "execution_count": 119,
   "metadata": {},
   "outputs": [
    {
     "ename": "ValueError",
     "evalue": "cannot reshape array of size 6 into shape (4,1)",
     "output_type": "error",
     "traceback": [
      "\u001b[0;31m---------------------------------------------------------------------------\u001b[0m",
      "\u001b[0;31mValueError\u001b[0m                                Traceback (most recent call last)",
      "\u001b[1;32m/home/harinadh_asr2/project/data_cleaning.ipynb Cell 43'\u001b[0m in \u001b[0;36m<cell line: 1>\u001b[0;34m()\u001b[0m\n\u001b[0;32m----> <a href='vscode-notebook-cell://ssh-remote%2Bgcp-vm/home/harinadh_asr2/project/data_cleaning.ipynb#ch0000042vscode-remote?line=0'>1</a>\u001b[0m b\u001b[39m.\u001b[39;49mreshape(b\u001b[39m.\u001b[39;49mshape[\u001b[39m0\u001b[39;49m]\u001b[39m*\u001b[39;49m\u001b[39m2\u001b[39;49m,b\u001b[39m.\u001b[39;49mshape[\u001b[39m1\u001b[39;49m]\u001b[39m/\u001b[39;49m\u001b[39m/\u001b[39;49m\u001b[39m2\u001b[39;49m)\n",
      "\u001b[0;31mValueError\u001b[0m: cannot reshape array of size 6 into shape (4,1)"
     ]
    }
   ],
   "source": [
    "b.reshape(b.shape[0]*2,b.shape[1]//2)"
   ]
  },
  {
   "cell_type": "code",
   "execution_count": 4,
   "metadata": {},
   "outputs": [],
   "source": [
    "DATASET_PATH = \"./WESAD/\"\n",
    "subject_no = \"S2\""
   ]
  },
  {
   "cell_type": "code",
   "execution_count": 122,
   "metadata": {},
   "outputs": [],
   "source": [
    "with open(f'{DATASET_PATH}/{subject_no}_features.npy','wb') as f:\n",
    "            np.save(f, chest_data)"
   ]
  },
  {
   "cell_type": "code",
   "execution_count": 5,
   "metadata": {},
   "outputs": [],
   "source": [
    "pickle_files = {}\n",
    "for root, dirnames, filenames in os.walk(DATASET_PATH, topdown=True):\n",
    "    for file_name in filenames :\n",
    "        if file_name.endswith('.pkl'):\n",
    "            subject_no = file_name.split('.')[0]\n",
    "            pickle_files[subject_no] = os.path.join(root,file_name)"
   ]
  },
  {
   "cell_type": "code",
   "execution_count": 6,
   "metadata": {},
   "outputs": [
    {
     "data": {
      "text/plain": [
       "{'S3': './WESAD/S3/S3.pkl',\n",
       " 'S15': './WESAD/S15/S15.pkl',\n",
       " 'S7': './WESAD/S7/S7.pkl',\n",
       " 'S17': './WESAD/S17/S17.pkl',\n",
       " 'S16': './WESAD/S16/S16.pkl',\n",
       " 'S6': './WESAD/S6/S6.pkl',\n",
       " 'S8': './WESAD/S8/S8.pkl',\n",
       " 'S4': './WESAD/S4/S4.pkl',\n",
       " 'S5': './WESAD/S5/S5.pkl',\n",
       " 'S11': './WESAD/S11/S11.pkl',\n",
       " 'S9': './WESAD/S9/S9.pkl',\n",
       " 'S10': './WESAD/S10/S10.pkl',\n",
       " 'S13': './WESAD/S13/S13.pkl',\n",
       " 'S2': './WESAD/S2/S2.pkl',\n",
       " 'S14': './WESAD/S14/S14.pkl'}"
      ]
     },
     "execution_count": 6,
     "metadata": {},
     "output_type": "execute_result"
    }
   ],
   "source": [
    "pickle_files"
   ]
  },
  {
   "cell_type": "code",
   "execution_count": 1,
   "metadata": {},
   "outputs": [
    {
     "name": "stderr",
     "output_type": "stream",
     "text": [
      "2022-06-19 19:23:29.271153: W tensorflow/stream_executor/platform/default/dso_loader.cc:64] Could not load dynamic library 'libcudart.so.11.0'; dlerror: libcudart.so.11.0: cannot open shared object file: No such file or directory\n",
      "2022-06-19 19:23:29.271237: I tensorflow/stream_executor/cuda/cudart_stub.cc:29] Ignore above cudart dlerror if you do not have a GPU set up on your machine.\n"
     ]
    }
   ],
   "source": [
    "import tensorflow as tf"
   ]
  },
  {
   "cell_type": "code",
   "execution_count": 2,
   "metadata": {},
   "outputs": [
    {
     "name": "stderr",
     "output_type": "stream",
     "text": [
      "2022-06-19 19:24:12.525260: W tensorflow/stream_executor/platform/default/dso_loader.cc:64] Could not load dynamic library 'libcuda.so.1'; dlerror: libcuda.so.1: cannot open shared object file: No such file or directory\n",
      "2022-06-19 19:24:12.525483: W tensorflow/stream_executor/cuda/cuda_driver.cc:269] failed call to cuInit: UNKNOWN ERROR (303)\n",
      "2022-06-19 19:24:12.525558: I tensorflow/stream_executor/cuda/cuda_diagnostics.cc:156] kernel driver does not appear to be running on this host (instance-1): /proc/driver/nvidia/version does not exist\n",
      "2022-06-19 19:24:12.527894: I tensorflow/core/platform/cpu_feature_guard.cc:193] This TensorFlow binary is optimized with oneAPI Deep Neural Network Library (oneDNN) to use the following CPU instructions in performance-critical operations:  AVX2 FMA\n",
      "To enable them in other operations, rebuild TensorFlow with the appropriate compiler flags.\n"
     ]
    }
   ],
   "source": [
    "var = tf.Variable([0.0, 0.0, 0.0])"
   ]
  },
  {
   "cell_type": "code",
   "execution_count": 3,
   "metadata": {},
   "outputs": [
    {
     "name": "stdout",
     "output_type": "stream",
     "text": [
      "tf.Tensor(b'Gray wolf', shape=(), dtype=string)\n"
     ]
    }
   ],
   "source": [
    "#loss function == mean square error --> differnetiate mean square error - w -alpha*de/dw -->[[w1,w2,w3],\n",
    "#                                                                                            [w4,w5,w6]]\n",
    "# Tensors can be strings, too here is a scalar string.\n",
    "scalar_string_tensor = tf.constant(\"Gray wolf\")\n",
    "print(scalar_string_tensor)\n"
   ]
  },
  {
   "cell_type": "code",
   "execution_count": null,
   "metadata": {},
   "outputs": [],
   "source": [
    "# Sparse tensors store values by index in a memory-efficient manner\n",
    "sparse_tensor = tf.sparse.SparseTensor(indices=[[0, 0], [1, 2]],\n",
    "                                       values=[1, 2],\n",
    "                                       dense_shape=[3, 4])\n",
    "print(sparse_tensor, \"\\n\")\n",
    "\n",
    "# You can convert sparse tensors to dense\n",
    "print(tf.sparse.to_dense(sparse_tensor))\n"
   ]
  },
  {
   "cell_type": "code",
   "execution_count": 6,
   "metadata": {},
   "outputs": [
    {
     "data": {
      "text/plain": [
       "<module 'tensorflow' from '/home/harinadh_asr2/miniconda3/envs/tff/lib/python3.9/site-packages/tensorflow/__init__.py'>"
      ]
     },
     "execution_count": 6,
     "metadata": {},
     "output_type": "execute_result"
    }
   ],
   "source": []
  },
  {
   "cell_type": "code",
   "execution_count": 17,
   "metadata": {},
   "outputs": [
    {
     "data": {
      "text/plain": [
       "array([[12,  2, 45],\n",
       "       [13, 34, 45]], dtype=int32)"
      ]
     },
     "execution_count": 17,
     "metadata": {},
     "output_type": "execute_result"
    }
   ],
   "source": [
    "tf.constant([[12,2,45],[13,34,45]]).numpy()"
   ]
  },
  {
   "cell_type": "code",
   "execution_count": null,
   "metadata": {},
   "outputs": [],
   "source": []
  },
  {
   "cell_type": "code",
   "execution_count": 2,
   "metadata": {},
   "outputs": [
    {
     "name": "stderr",
     "output_type": "stream",
     "text": [
      "2022-07-15 01:17:14.200949: W tensorflow/stream_executor/platform/default/dso_loader.cc:64] Could not load dynamic library 'libcuda.so.1'; dlerror: libcuda.so.1: cannot open shared object file: No such file or directory\n",
      "2022-07-15 01:17:14.201109: W tensorflow/stream_executor/cuda/cuda_driver.cc:269] failed call to cuInit: UNKNOWN ERROR (303)\n",
      "2022-07-15 01:17:14.201149: I tensorflow/stream_executor/cuda/cuda_diagnostics.cc:156] kernel driver does not appear to be running on this host (instance-1): /proc/driver/nvidia/version does not exist\n",
      "2022-07-15 01:17:14.202214: I tensorflow/core/platform/cpu_feature_guard.cc:193] This TensorFlow binary is optimized with oneAPI Deep Neural Network Library (oneDNN) to use the following CPU instructions in performance-critical operations:  AVX2 FMA\n",
      "To enable them in other operations, rebuild TensorFlow with the appropriate compiler flags.\n"
     ]
    }
   ],
   "source": [
    "t0 = 33\n",
    "t1= tf.Variable(44)\n"
   ]
  },
  {
   "cell_type": "code",
   "execution_count": 7,
   "metadata": {},
   "outputs": [
    {
     "data": {
      "text/plain": [
       "44"
      ]
     },
     "execution_count": 7,
     "metadata": {},
     "output_type": "execute_result"
    }
   ],
   "source": [
    "t1.numpy()"
   ]
  },
  {
   "cell_type": "code",
   "execution_count": null,
   "metadata": {},
   "outputs": [],
   "source": []
  },
  {
   "cell_type": "code",
   "execution_count": null,
   "metadata": {},
   "outputs": [],
   "source": []
  },
  {
   "cell_type": "code",
   "execution_count": null,
   "metadata": {},
   "outputs": [],
   "source": [
    "EDA, ECG, EMG, RESP, TEMP, ACC3"
   ]
  },
  {
   "cell_type": "code",
   "execution_count": 9,
   "metadata": {},
   "outputs": [],
   "source": [
    "file_path = '../WESAD/S10_train_data.npy'"
   ]
  },
  {
   "cell_type": "code",
   "execution_count": 11,
   "metadata": {},
   "outputs": [],
   "source": [
    "data = np.load(file_path, allow_pickle=True)"
   ]
  },
  {
   "cell_type": "code",
   "execution_count": 16,
   "metadata": {},
   "outputs": [],
   "source": [
    "chest_features = data.item()['features'][:,0:28]"
   ]
  },
  {
   "cell_type": "code",
   "execution_count": 17,
   "metadata": {},
   "outputs": [
    {
     "data": {
      "text/html": [
       "<div>\n",
       "<style scoped>\n",
       "    .dataframe tbody tr th:only-of-type {\n",
       "        vertical-align: middle;\n",
       "    }\n",
       "\n",
       "    .dataframe tbody tr th {\n",
       "        vertical-align: top;\n",
       "    }\n",
       "\n",
       "    .dataframe thead th {\n",
       "        text-align: right;\n",
       "    }\n",
       "</style>\n",
       "<table border=\"1\" class=\"dataframe\">\n",
       "  <thead>\n",
       "    <tr style=\"text-align: right;\">\n",
       "      <th></th>\n",
       "      <th>0</th>\n",
       "      <th>1</th>\n",
       "      <th>2</th>\n",
       "      <th>3</th>\n",
       "      <th>4</th>\n",
       "      <th>5</th>\n",
       "      <th>6</th>\n",
       "      <th>7</th>\n",
       "      <th>8</th>\n",
       "      <th>9</th>\n",
       "      <th>...</th>\n",
       "      <th>18</th>\n",
       "      <th>19</th>\n",
       "      <th>20</th>\n",
       "      <th>21</th>\n",
       "      <th>22</th>\n",
       "      <th>23</th>\n",
       "      <th>24</th>\n",
       "      <th>25</th>\n",
       "      <th>26</th>\n",
       "      <th>27</th>\n",
       "    </tr>\n",
       "  </thead>\n",
       "  <tbody>\n",
       "    <tr>\n",
       "      <th>count</th>\n",
       "      <td>1.598000e+03</td>\n",
       "      <td>1.598000e+03</td>\n",
       "      <td>1.598000e+03</td>\n",
       "      <td>1.598000e+03</td>\n",
       "      <td>1.598000e+03</td>\n",
       "      <td>1.598000e+03</td>\n",
       "      <td>1.598000e+03</td>\n",
       "      <td>1.598000e+03</td>\n",
       "      <td>1.598000e+03</td>\n",
       "      <td>1.598000e+03</td>\n",
       "      <td>...</td>\n",
       "      <td>1.598000e+03</td>\n",
       "      <td>1.598000e+03</td>\n",
       "      <td>1.598000e+03</td>\n",
       "      <td>1.598000e+03</td>\n",
       "      <td>1.598000e+03</td>\n",
       "      <td>1.598000e+03</td>\n",
       "      <td>1.598000e+03</td>\n",
       "      <td>1.598000e+03</td>\n",
       "      <td>1.598000e+03</td>\n",
       "      <td>1.598000e+03</td>\n",
       "    </tr>\n",
       "    <tr>\n",
       "      <th>mean</th>\n",
       "      <td>-6.225030e-17</td>\n",
       "      <td>7.781288e-18</td>\n",
       "      <td>-8.781739e-17</td>\n",
       "      <td>2.223225e-17</td>\n",
       "      <td>9.337545e-17</td>\n",
       "      <td>-1.333935e-17</td>\n",
       "      <td>8.648346e-16</td>\n",
       "      <td>2.000903e-17</td>\n",
       "      <td>-8.225933e-17</td>\n",
       "      <td>2.667870e-17</td>\n",
       "      <td>...</td>\n",
       "      <td>-1.578490e-16</td>\n",
       "      <td>-1.213881e-15</td>\n",
       "      <td>3.283703e-15</td>\n",
       "      <td>8.234826e-15</td>\n",
       "      <td>1.517573e-14</td>\n",
       "      <td>1.133845e-15</td>\n",
       "      <td>-3.907318e-15</td>\n",
       "      <td>-6.530724e-16</td>\n",
       "      <td>-2.890193e-17</td>\n",
       "      <td>1.556258e-16</td>\n",
       "    </tr>\n",
       "    <tr>\n",
       "      <th>std</th>\n",
       "      <td>1.000313e+00</td>\n",
       "      <td>1.000313e+00</td>\n",
       "      <td>1.000313e+00</td>\n",
       "      <td>1.000313e+00</td>\n",
       "      <td>1.000313e+00</td>\n",
       "      <td>1.000313e+00</td>\n",
       "      <td>1.000313e+00</td>\n",
       "      <td>1.000313e+00</td>\n",
       "      <td>1.000313e+00</td>\n",
       "      <td>1.000313e+00</td>\n",
       "      <td>...</td>\n",
       "      <td>1.000313e+00</td>\n",
       "      <td>1.000313e+00</td>\n",
       "      <td>1.000313e+00</td>\n",
       "      <td>1.000313e+00</td>\n",
       "      <td>1.000313e+00</td>\n",
       "      <td>1.000313e+00</td>\n",
       "      <td>1.000313e+00</td>\n",
       "      <td>1.000313e+00</td>\n",
       "      <td>1.000313e+00</td>\n",
       "      <td>1.000313e+00</td>\n",
       "    </tr>\n",
       "    <tr>\n",
       "      <th>min</th>\n",
       "      <td>-2.521452e+00</td>\n",
       "      <td>-2.645645e+00</td>\n",
       "      <td>-1.432691e+00</td>\n",
       "      <td>-3.056233e+00</td>\n",
       "      <td>-1.449710e+00</td>\n",
       "      <td>-8.583526e-01</td>\n",
       "      <td>-1.454386e+00</td>\n",
       "      <td>-3.251367e+00</td>\n",
       "      <td>-2.884848e+00</td>\n",
       "      <td>-3.605213e+00</td>\n",
       "      <td>...</td>\n",
       "      <td>-6.449375e-01</td>\n",
       "      <td>-2.092762e+00</td>\n",
       "      <td>-1.402364e+00</td>\n",
       "      <td>-2.271589e+00</td>\n",
       "      <td>-1.984441e+00</td>\n",
       "      <td>-1.264856e+00</td>\n",
       "      <td>-2.406195e+00</td>\n",
       "      <td>-3.067837e+00</td>\n",
       "      <td>-1.374123e+00</td>\n",
       "      <td>-4.870385e+00</td>\n",
       "    </tr>\n",
       "    <tr>\n",
       "      <th>25%</th>\n",
       "      <td>-8.582162e-01</td>\n",
       "      <td>-3.400132e-01</td>\n",
       "      <td>-8.402137e-01</td>\n",
       "      <td>-6.850510e-01</td>\n",
       "      <td>-5.473840e-01</td>\n",
       "      <td>-7.394194e-01</td>\n",
       "      <td>-6.324868e-01</td>\n",
       "      <td>-7.377497e-01</td>\n",
       "      <td>-9.520606e-01</td>\n",
       "      <td>-2.298624e-01</td>\n",
       "      <td>...</td>\n",
       "      <td>-3.748433e-01</td>\n",
       "      <td>-6.823917e-01</td>\n",
       "      <td>-5.226256e-01</td>\n",
       "      <td>-5.324612e-01</td>\n",
       "      <td>-6.968661e-01</td>\n",
       "      <td>-7.266844e-01</td>\n",
       "      <td>-8.911709e-01</td>\n",
       "      <td>-2.746852e-01</td>\n",
       "      <td>-8.590827e-01</td>\n",
       "      <td>-6.334492e-01</td>\n",
       "    </tr>\n",
       "    <tr>\n",
       "      <th>50%</th>\n",
       "      <td>3.900127e-01</td>\n",
       "      <td>9.343119e-02</td>\n",
       "      <td>-1.575012e-01</td>\n",
       "      <td>-9.381462e-02</td>\n",
       "      <td>-2.143825e-01</td>\n",
       "      <td>-6.099920e-01</td>\n",
       "      <td>-5.368088e-01</td>\n",
       "      <td>3.996388e-02</td>\n",
       "      <td>5.454043e-01</td>\n",
       "      <td>7.698687e-02</td>\n",
       "      <td>...</td>\n",
       "      <td>-2.350623e-01</td>\n",
       "      <td>-2.673495e-02</td>\n",
       "      <td>-1.848186e-01</td>\n",
       "      <td>-1.172259e-02</td>\n",
       "      <td>-4.144511e-01</td>\n",
       "      <td>-1.523594e-01</td>\n",
       "      <td>5.034635e-01</td>\n",
       "      <td>9.784251e-02</td>\n",
       "      <td>-1.147752e-01</td>\n",
       "      <td>-7.257837e-03</td>\n",
       "    </tr>\n",
       "    <tr>\n",
       "      <th>75%</th>\n",
       "      <td>9.643404e-01</td>\n",
       "      <td>6.980658e-01</td>\n",
       "      <td>1.039187e+00</td>\n",
       "      <td>5.260177e-01</td>\n",
       "      <td>1.938128e-01</td>\n",
       "      <td>1.022425e+00</td>\n",
       "      <td>1.058338e+00</td>\n",
       "      <td>5.519488e-01</td>\n",
       "      <td>1.020572e+00</td>\n",
       "      <td>7.321032e-01</td>\n",
       "      <td>...</td>\n",
       "      <td>5.507857e-02</td>\n",
       "      <td>7.356661e-01</td>\n",
       "      <td>1.537389e-01</td>\n",
       "      <td>4.410339e-01</td>\n",
       "      <td>9.542629e-01</td>\n",
       "      <td>4.426202e-01</td>\n",
       "      <td>1.025522e+00</td>\n",
       "      <td>7.359198e-01</td>\n",
       "      <td>1.045620e+00</td>\n",
       "      <td>6.689597e-01</td>\n",
       "    </tr>\n",
       "    <tr>\n",
       "      <th>max</th>\n",
       "      <td>3.108750e+00</td>\n",
       "      <td>3.225883e+00</td>\n",
       "      <td>2.425931e+00</td>\n",
       "      <td>3.825655e+00</td>\n",
       "      <td>1.018923e+01</td>\n",
       "      <td>2.040353e+00</td>\n",
       "      <td>1.801804e+00</td>\n",
       "      <td>4.644978e+00</td>\n",
       "      <td>1.285215e+00</td>\n",
       "      <td>1.936913e+00</td>\n",
       "      <td>...</td>\n",
       "      <td>1.285085e+01</td>\n",
       "      <td>5.013780e+00</td>\n",
       "      <td>1.039615e+01</td>\n",
       "      <td>1.369851e+01</td>\n",
       "      <td>2.363858e+00</td>\n",
       "      <td>9.960628e+00</td>\n",
       "      <td>1.288818e+00</td>\n",
       "      <td>1.989393e+00</td>\n",
       "      <td>2.070848e+00</td>\n",
       "      <td>4.196384e+00</td>\n",
       "    </tr>\n",
       "  </tbody>\n",
       "</table>\n",
       "<p>8 rows × 28 columns</p>\n",
       "</div>"
      ],
      "text/plain": [
       "                 0             1             2             3             4   \\\n",
       "count  1.598000e+03  1.598000e+03  1.598000e+03  1.598000e+03  1.598000e+03   \n",
       "mean  -6.225030e-17  7.781288e-18 -8.781739e-17  2.223225e-17  9.337545e-17   \n",
       "std    1.000313e+00  1.000313e+00  1.000313e+00  1.000313e+00  1.000313e+00   \n",
       "min   -2.521452e+00 -2.645645e+00 -1.432691e+00 -3.056233e+00 -1.449710e+00   \n",
       "25%   -8.582162e-01 -3.400132e-01 -8.402137e-01 -6.850510e-01 -5.473840e-01   \n",
       "50%    3.900127e-01  9.343119e-02 -1.575012e-01 -9.381462e-02 -2.143825e-01   \n",
       "75%    9.643404e-01  6.980658e-01  1.039187e+00  5.260177e-01  1.938128e-01   \n",
       "max    3.108750e+00  3.225883e+00  2.425931e+00  3.825655e+00  1.018923e+01   \n",
       "\n",
       "                 5             6             7             8             9   \\\n",
       "count  1.598000e+03  1.598000e+03  1.598000e+03  1.598000e+03  1.598000e+03   \n",
       "mean  -1.333935e-17  8.648346e-16  2.000903e-17 -8.225933e-17  2.667870e-17   \n",
       "std    1.000313e+00  1.000313e+00  1.000313e+00  1.000313e+00  1.000313e+00   \n",
       "min   -8.583526e-01 -1.454386e+00 -3.251367e+00 -2.884848e+00 -3.605213e+00   \n",
       "25%   -7.394194e-01 -6.324868e-01 -7.377497e-01 -9.520606e-01 -2.298624e-01   \n",
       "50%   -6.099920e-01 -5.368088e-01  3.996388e-02  5.454043e-01  7.698687e-02   \n",
       "75%    1.022425e+00  1.058338e+00  5.519488e-01  1.020572e+00  7.321032e-01   \n",
       "max    2.040353e+00  1.801804e+00  4.644978e+00  1.285215e+00  1.936913e+00   \n",
       "\n",
       "       ...            18            19            20            21  \\\n",
       "count  ...  1.598000e+03  1.598000e+03  1.598000e+03  1.598000e+03   \n",
       "mean   ... -1.578490e-16 -1.213881e-15  3.283703e-15  8.234826e-15   \n",
       "std    ...  1.000313e+00  1.000313e+00  1.000313e+00  1.000313e+00   \n",
       "min    ... -6.449375e-01 -2.092762e+00 -1.402364e+00 -2.271589e+00   \n",
       "25%    ... -3.748433e-01 -6.823917e-01 -5.226256e-01 -5.324612e-01   \n",
       "50%    ... -2.350623e-01 -2.673495e-02 -1.848186e-01 -1.172259e-02   \n",
       "75%    ...  5.507857e-02  7.356661e-01  1.537389e-01  4.410339e-01   \n",
       "max    ...  1.285085e+01  5.013780e+00  1.039615e+01  1.369851e+01   \n",
       "\n",
       "                 22            23            24            25            26  \\\n",
       "count  1.598000e+03  1.598000e+03  1.598000e+03  1.598000e+03  1.598000e+03   \n",
       "mean   1.517573e-14  1.133845e-15 -3.907318e-15 -6.530724e-16 -2.890193e-17   \n",
       "std    1.000313e+00  1.000313e+00  1.000313e+00  1.000313e+00  1.000313e+00   \n",
       "min   -1.984441e+00 -1.264856e+00 -2.406195e+00 -3.067837e+00 -1.374123e+00   \n",
       "25%   -6.968661e-01 -7.266844e-01 -8.911709e-01 -2.746852e-01 -8.590827e-01   \n",
       "50%   -4.144511e-01 -1.523594e-01  5.034635e-01  9.784251e-02 -1.147752e-01   \n",
       "75%    9.542629e-01  4.426202e-01  1.025522e+00  7.359198e-01  1.045620e+00   \n",
       "max    2.363858e+00  9.960628e+00  1.288818e+00  1.989393e+00  2.070848e+00   \n",
       "\n",
       "                 27  \n",
       "count  1.598000e+03  \n",
       "mean   1.556258e-16  \n",
       "std    1.000313e+00  \n",
       "min   -4.870385e+00  \n",
       "25%   -6.334492e-01  \n",
       "50%   -7.257837e-03  \n",
       "75%    6.689597e-01  \n",
       "max    4.196384e+00  \n",
       "\n",
       "[8 rows x 28 columns]"
      ]
     },
     "execution_count": 17,
     "metadata": {},
     "output_type": "execute_result"
    }
   ],
   "source": [
    "pd.DataFrame(chest_features).describe()"
   ]
  },
  {
   "cell_type": "code",
   "execution_count": null,
   "metadata": {},
   "outputs": [],
   "source": []
  }
 ],
 "metadata": {
  "kernelspec": {
   "display_name": "Python 3 (ipykernel)",
   "language": "python",
   "name": "python3"
  },
  "language_info": {
   "codemirror_mode": {
    "name": "ipython",
    "version": 3
   },
   "file_extension": ".py",
   "mimetype": "text/x-python",
   "name": "python",
   "nbconvert_exporter": "python",
   "pygments_lexer": "ipython3",
   "version": "3.9.12"
  },
  "vscode": {
   "interpreter": {
    "hash": "c8b7a11f63032c6e7b8c2ff08d31808d7d019c446ad08c272c8c208547652a4a"
   }
  }
 },
 "nbformat": 4,
 "nbformat_minor": 2
}
