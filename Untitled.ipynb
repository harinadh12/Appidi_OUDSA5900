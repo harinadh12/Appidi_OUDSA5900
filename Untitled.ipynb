{
 "cells": [
  {
   "cell_type": "code",
   "execution_count": 1,
   "id": "f72e1b32",
   "metadata": {},
   "outputs": [],
   "source": [
    "import pickle"
   ]
  },
  {
   "cell_type": "code",
   "execution_count": 4,
   "id": "b2626ce0",
   "metadata": {},
   "outputs": [],
   "source": [
    "with open('../WESAD/S2/S2.pkl','rb') as f:\n",
    "    data = pickle.load(f, encoding='latin1')"
   ]
  },
  {
   "cell_type": "code",
   "execution_count": 8,
   "id": "a0e2dc97",
   "metadata": {},
   "outputs": [
    {
     "data": {
      "text/plain": [
       "(4255300, 3)"
      ]
     },
     "execution_count": 8,
     "metadata": {},
     "output_type": "execute_result"
    }
   ],
   "source": [
    "data['signal']['chest']['ACC'].shape"
   ]
  },
  {
   "cell_type": "code",
   "execution_count": 9,
   "id": "8aaa7a1e",
   "metadata": {},
   "outputs": [],
   "source": [
    "with open('../WESAD/S3/S3.pkl','rb') as f:\n",
    "    data = pickle.load(f, encoding='latin1')"
   ]
  },
  {
   "cell_type": "code",
   "execution_count": 12,
   "id": "84bb6b7a",
   "metadata": {},
   "outputs": [
    {
     "data": {
      "text/plain": [
       "(4545100, 3)"
      ]
     },
     "execution_count": 12,
     "metadata": {},
     "output_type": "execute_result"
    }
   ],
   "source": [
    "data['signal']['chest']['ACC'].shape"
   ]
  },
  {
   "cell_type": "code",
   "execution_count": 13,
   "id": "45ec2905",
   "metadata": {},
   "outputs": [
    {
     "data": {
      "text/plain": [
       "(207776, 3)"
      ]
     },
     "execution_count": 13,
     "metadata": {},
     "output_type": "execute_result"
    }
   ],
   "source": [
    "data['signal']['wrist']['ACC'].shape"
   ]
  },
  {
   "cell_type": "code",
   "execution_count": 15,
   "id": "0341a09b",
   "metadata": {},
   "outputs": [
    {
     "data": {
      "text/plain": [
       "6493.0"
      ]
     },
     "execution_count": 15,
     "metadata": {},
     "output_type": "execute_result"
    }
   ],
   "source": [
    "4545100/700"
   ]
  },
  {
   "cell_type": "code",
   "execution_count": 17,
   "id": "b7e5c53f",
   "metadata": {},
   "outputs": [
    {
     "data": {
      "text/plain": [
       "6493.0"
      ]
     },
     "execution_count": 17,
     "metadata": {},
     "output_type": "execute_result"
    }
   ],
   "source": [
    "207776/32"
   ]
  },
  {
   "cell_type": "code",
   "execution_count": 2,
   "id": "2ec673dd",
   "metadata": {
    "scrolled": false
   },
   "outputs": [
    {
     "data": {
      "text/plain": [
       "[                                  TMP__amin__w=15m_s=15m\n",
       " timestamp                                               \n",
       " 2017-06-13 14:22:25.625578+02:00               27.370001\n",
       " 2017-06-13 14:37:25.625578+02:00               32.290001\n",
       " 2017-06-13 14:52:25.625578+02:00               34.150002\n",
       " 2017-06-13 15:07:25.625578+02:00               34.410000\n",
       " 2017-06-13 15:22:25.625578+02:00               33.709999\n",
       " 2017-06-13 15:37:25.625578+02:00               33.610001\n",
       " 2017-06-13 15:52:25.625578+02:00               31.309999,\n",
       "                                   TMP__mean__w=15m_s=15m\n",
       " timestamp                                               \n",
       " 2017-06-13 14:22:25.625578+02:00               30.616856\n",
       " 2017-06-13 14:37:25.625578+02:00               33.622444\n",
       " 2017-06-13 14:52:25.625578+02:00               35.299019\n",
       " 2017-06-13 15:07:25.625578+02:00               34.763912\n",
       " 2017-06-13 15:22:25.625578+02:00               34.566444\n",
       " 2017-06-13 15:37:25.625578+02:00               34.119469\n",
       " 2017-06-13 15:52:25.625578+02:00               32.598324,\n",
       "                                   TMP__std__w=15m_s=15m\n",
       " timestamp                                              \n",
       " 2017-06-13 14:22:25.625578+02:00               1.729108\n",
       " 2017-06-13 14:37:25.625578+02:00               0.595057\n",
       " 2017-06-13 14:52:25.625578+02:00               0.346389\n",
       " 2017-06-13 15:07:25.625578+02:00               0.283616\n",
       " 2017-06-13 15:22:25.625578+02:00               0.496828\n",
       " 2017-06-13 15:37:25.625578+02:00               0.381896\n",
       " 2017-06-13 15:52:25.625578+02:00               0.665604,\n",
       "                                   TMP__skew__w=15m_s=15m\n",
       " timestamp                                               \n",
       " 2017-06-13 14:22:25.625578+02:00               -0.237454\n",
       " 2017-06-13 14:37:25.625578+02:00               -0.502230\n",
       " 2017-06-13 14:52:25.625578+02:00               -1.525605\n",
       " 2017-06-13 15:07:25.625578+02:00                0.820956\n",
       " 2017-06-13 15:22:25.625578+02:00                0.003089\n",
       " 2017-06-13 15:37:25.625578+02:00                0.515685\n",
       " 2017-06-13 15:52:25.625578+02:00                0.023150,\n",
       "                                   TMP__std__w=30m_s=15m\n",
       " timestamp                                              \n",
       " 2017-06-13 14:22:25.625578+02:00               1.982511\n",
       " 2017-06-13 14:37:25.625578+02:00               0.969414\n",
       " 2017-06-13 14:52:25.625578+02:00               0.414484\n",
       " 2017-06-13 15:07:25.625578+02:00               0.416397\n",
       " 2017-06-13 15:22:25.625578+02:00               0.496274\n",
       " 2017-06-13 15:37:25.625578+02:00               0.934295,\n",
       "                                   TMP__amin__w=30m_s=15m\n",
       " timestamp                                               \n",
       " 2017-06-13 14:22:25.625578+02:00               27.370001\n",
       " 2017-06-13 14:37:25.625578+02:00               32.290001\n",
       " 2017-06-13 14:52:25.625578+02:00               34.150002\n",
       " 2017-06-13 15:07:25.625578+02:00               33.709999\n",
       " 2017-06-13 15:22:25.625578+02:00               33.610001\n",
       " 2017-06-13 15:37:25.625578+02:00               31.309999,\n",
       "                                   TMP__mean__w=30m_s=15m\n",
       " timestamp                                               \n",
       " 2017-06-13 14:22:25.625578+02:00               32.119652\n",
       " 2017-06-13 14:37:25.625578+02:00               34.460735\n",
       " 2017-06-13 14:52:25.625578+02:00               35.031464\n",
       " 2017-06-13 15:07:25.625578+02:00               34.665176\n",
       " 2017-06-13 15:22:25.625578+02:00               34.342957\n",
       " 2017-06-13 15:37:25.625578+02:00               33.358898,\n",
       "                                   TMP__kurtosis__w=30m_s=15m\n",
       " timestamp                                                   \n",
       " 2017-06-13 14:22:25.625578+02:00                   -0.409163\n",
       " 2017-06-13 14:37:25.625578+02:00                   -1.022533\n",
       " 2017-06-13 14:52:25.625578+02:00                   -1.346443\n",
       " 2017-06-13 15:07:25.625578+02:00                   -0.527781\n",
       " 2017-06-13 15:22:25.625578+02:00                   -0.974664\n",
       " 2017-06-13 15:37:25.625578+02:00                   -0.886140,\n",
       "                                   TMP__kurtosis__w=15m_s=15m\n",
       " timestamp                                                   \n",
       " 2017-06-13 14:22:25.625578+02:00                   -1.042623\n",
       " 2017-06-13 14:37:25.625578+02:00                   -0.665017\n",
       " 2017-06-13 14:52:25.625578+02:00                    1.951822\n",
       " 2017-06-13 15:07:25.625578+02:00                   -0.235339\n",
       " 2017-06-13 15:22:25.625578+02:00                   -1.290203\n",
       " 2017-06-13 15:37:25.625578+02:00                   -0.922142\n",
       " 2017-06-13 15:52:25.625578+02:00                   -0.975116,\n",
       "                                   ACC_x__amin__w=15m_s=15m\n",
       " timestamp                                                 \n",
       " 2017-06-13 14:22:25.625578+02:00                       -84\n",
       " 2017-06-13 14:37:25.625578+02:00                       -42\n",
       " 2017-06-13 14:52:25.625578+02:00                       -16\n",
       " 2017-06-13 15:07:25.625578+02:00                       -34\n",
       " 2017-06-13 15:22:25.625578+02:00                       -45\n",
       " 2017-06-13 15:37:25.625578+02:00                       -40\n",
       " 2017-06-13 15:52:25.625578+02:00                       -57,\n",
       "                                   ACC_x__std__w=15m_s=15m\n",
       " timestamp                                                \n",
       " 2017-06-13 14:22:25.625578+02:00                16.526912\n",
       " 2017-06-13 14:37:25.625578+02:00                16.048033\n",
       " 2017-06-13 14:52:25.625578+02:00                13.426418\n",
       " 2017-06-13 15:07:25.625578+02:00                16.000860\n",
       " 2017-06-13 15:22:25.625578+02:00                18.112662\n",
       " 2017-06-13 15:37:25.625578+02:00                 6.814113\n",
       " 2017-06-13 15:52:25.625578+02:00                15.782597,\n",
       "                                   ACC_x__amin__w=30m_s=15m\n",
       " timestamp                                                 \n",
       " 2017-06-13 14:22:25.625578+02:00                       -84\n",
       " 2017-06-13 14:37:25.625578+02:00                       -42\n",
       " 2017-06-13 14:52:25.625578+02:00                       -34\n",
       " 2017-06-13 15:07:25.625578+02:00                       -45\n",
       " 2017-06-13 15:22:25.625578+02:00                       -45\n",
       " 2017-06-13 15:37:25.625578+02:00                       -57,\n",
       "                                   ACC_x__mean__w=15m_s=15m\n",
       " timestamp                                                 \n",
       " 2017-06-13 14:22:25.625578+02:00                 23.054826\n",
       " 2017-06-13 14:37:25.625578+02:00                 36.990972\n",
       " 2017-06-13 14:52:25.625578+02:00                 48.807639\n",
       " 2017-06-13 15:07:25.625578+02:00                 48.303229\n",
       " 2017-06-13 15:22:25.625578+02:00                 46.754028\n",
       " 2017-06-13 15:37:25.625578+02:00                 38.670000\n",
       " 2017-06-13 15:52:25.625578+02:00                 46.125868,\n",
       "                                   ACC_x__mean__w=30m_s=15m\n",
       " timestamp                                                 \n",
       " 2017-06-13 14:22:25.625578+02:00                 30.022899\n",
       " 2017-06-13 14:37:25.625578+02:00                 42.899306\n",
       " 2017-06-13 14:52:25.625578+02:00                 48.555434\n",
       " 2017-06-13 15:07:25.625578+02:00                 47.528628\n",
       " 2017-06-13 15:22:25.625578+02:00                 42.712014\n",
       " 2017-06-13 15:37:25.625578+02:00                 42.397934,\n",
       "                                   ACC_x__kurtosis__w=15m_s=15m\n",
       " timestamp                                                     \n",
       " 2017-06-13 14:22:25.625578+02:00                      2.830396\n",
       " 2017-06-13 14:37:25.625578+02:00                      0.111732\n",
       " 2017-06-13 14:52:25.625578+02:00                     -0.232898\n",
       " 2017-06-13 15:07:25.625578+02:00                     -0.676866\n",
       " 2017-06-13 15:22:25.625578+02:00                     -0.557543\n",
       " 2017-06-13 15:37:25.625578+02:00                     27.035119\n",
       " 2017-06-13 15:52:25.625578+02:00                      4.311939,\n",
       "                                   ACC_x__std__w=30m_s=15m\n",
       " timestamp                                                \n",
       " 2017-06-13 14:22:25.625578+02:00                17.717030\n",
       " 2017-06-13 14:37:25.625578+02:00                15.931492\n",
       " 2017-06-13 14:52:25.625578+02:00                14.771991\n",
       " 2017-06-13 15:07:25.625578+02:00                17.106959\n",
       " 2017-06-13 15:22:25.625578+02:00                14.268434\n",
       " 2017-06-13 15:37:25.625578+02:00                12.714509,\n",
       "                                   ACC_x__skew__w=15m_s=15m\n",
       " timestamp                                                 \n",
       " 2017-06-13 14:22:25.625578+02:00                  1.082026\n",
       " 2017-06-13 14:37:25.625578+02:00                 -0.164734\n",
       " 2017-06-13 14:52:25.625578+02:00                 -0.949994\n",
       " 2017-06-13 15:07:25.625578+02:00                 -0.620912\n",
       " 2017-06-13 15:22:25.625578+02:00                 -0.860550\n",
       " 2017-06-13 15:37:25.625578+02:00                 -2.118183\n",
       " 2017-06-13 15:52:25.625578+02:00                 -1.425403,\n",
       "                                   ACC_y__amin__w=15m_s=15m\n",
       " timestamp                                                 \n",
       " 2017-06-13 14:22:25.625578+02:00                      -128\n",
       " 2017-06-13 14:37:25.625578+02:00                      -114\n",
       " 2017-06-13 14:52:25.625578+02:00                       -25\n",
       " 2017-06-13 15:07:25.625578+02:00                       -71\n",
       " 2017-06-13 15:22:25.625578+02:00                       -89\n",
       " 2017-06-13 15:37:25.625578+02:00                       -95\n",
       " 2017-06-13 15:52:25.625578+02:00                       -91,\n",
       "                                   TMP__skew__w=30m_s=15m\n",
       " timestamp                                               \n",
       " 2017-06-13 14:22:25.625578+02:00               -0.848070\n",
       " 2017-06-13 14:37:25.625578+02:00               -0.416012\n",
       " 2017-06-13 14:52:25.625578+02:00               -0.090811\n",
       " 2017-06-13 15:07:25.625578+02:00               -0.208997\n",
       " 2017-06-13 15:22:25.625578+02:00                0.396043\n",
       " 2017-06-13 15:37:25.625578+02:00               -0.393935,\n",
       "                                   ACC_y__std__w=15m_s=15m\n",
       " timestamp                                                \n",
       " 2017-06-13 14:22:25.625578+02:00                27.701051\n",
       " 2017-06-13 14:37:25.625578+02:00                32.294463\n",
       " 2017-06-13 14:52:25.625578+02:00                 6.653092\n",
       " 2017-06-13 15:07:25.625578+02:00                11.853321\n",
       " 2017-06-13 15:22:25.625578+02:00                17.041679\n",
       " 2017-06-13 15:37:25.625578+02:00                10.540813\n",
       " 2017-06-13 15:52:25.625578+02:00                23.705885,\n",
       "                                   ACC_y__mean__w=15m_s=15m\n",
       " timestamp                                                 \n",
       " 2017-06-13 14:22:25.625578+02:00                -43.551875\n",
       " 2017-06-13 14:37:25.625578+02:00                 -3.583264\n",
       " 2017-06-13 14:52:25.625578+02:00                 15.373958\n",
       " 2017-06-13 15:07:25.625578+02:00                  7.072917\n",
       " 2017-06-13 15:22:25.625578+02:00                  0.563333\n",
       " 2017-06-13 15:37:25.625578+02:00                -37.681632\n",
       " 2017-06-13 15:52:25.625578+02:00                  3.358854,\n",
       "                                   ACC_y__amin__w=30m_s=15m\n",
       " timestamp                                                 \n",
       " 2017-06-13 14:22:25.625578+02:00                      -128\n",
       " 2017-06-13 14:37:25.625578+02:00                      -114\n",
       " 2017-06-13 14:52:25.625578+02:00                       -71\n",
       " 2017-06-13 15:07:25.625578+02:00                       -89\n",
       " 2017-06-13 15:22:25.625578+02:00                       -95\n",
       " 2017-06-13 15:37:25.625578+02:00                       -95,\n",
       "                                   ACC_y__mean__w=30m_s=15m\n",
       " timestamp                                                 \n",
       " 2017-06-13 14:22:25.625578+02:00                -23.567569\n",
       " 2017-06-13 14:37:25.625578+02:00                  5.895347\n",
       " 2017-06-13 14:52:25.625578+02:00                 11.223437\n",
       " 2017-06-13 15:07:25.625578+02:00                  3.818125\n",
       " 2017-06-13 15:22:25.625578+02:00                -18.559149\n",
       " 2017-06-13 15:37:25.625578+02:00                -17.161389,\n",
       "                                   ACC_x__kurtosis__w=30m_s=15m\n",
       " timestamp                                                     \n",
       " 2017-06-13 14:22:25.625578+02:00                      0.276012\n",
       " 2017-06-13 14:37:25.625578+02:00                     -0.266421\n",
       " 2017-06-13 14:52:25.625578+02:00                     -0.452382\n",
       " 2017-06-13 15:07:25.625578+02:00                     -0.517442\n",
       " 2017-06-13 15:22:25.625578+02:00                      0.534989\n",
       " 2017-06-13 15:37:25.625578+02:00                      5.990208,\n",
       "                                   ACC_x__skew__w=30m_s=15m\n",
       " timestamp                                                 \n",
       " 2017-06-13 14:22:25.625578+02:00                  0.348616\n",
       " 2017-06-13 14:37:25.625578+02:00                 -0.537861\n",
       " 2017-06-13 14:52:25.625578+02:00                 -0.760111\n",
       " 2017-06-13 15:07:25.625578+02:00                 -0.781476\n",
       " 2017-06-13 15:22:25.625578+02:00                 -0.407693\n",
       " 2017-06-13 15:37:25.625578+02:00                 -0.974833,\n",
       "                                   ACC_y__kurtosis__w=15m_s=15m\n",
       " timestamp                                                     \n",
       " 2017-06-13 14:22:25.625578+02:00                      1.039440\n",
       " 2017-06-13 14:37:25.625578+02:00                     -0.663978\n",
       " 2017-06-13 14:52:25.625578+02:00                     13.167849\n",
       " 2017-06-13 15:07:25.625578+02:00                      5.517524\n",
       " 2017-06-13 15:22:25.625578+02:00                      4.840850\n",
       " 2017-06-13 15:37:25.625578+02:00                     17.383721\n",
       " 2017-06-13 15:52:25.625578+02:00                      0.681129,\n",
       "                                   ACC_y__std__w=30m_s=15m\n",
       " timestamp                                                \n",
       " 2017-06-13 14:22:25.625578+02:00                36.118039\n",
       " 2017-06-13 14:37:25.625578+02:00                25.168275\n",
       " 2017-06-13 14:52:25.625578+02:00                10.469443\n",
       " 2017-06-13 15:07:25.625578+02:00                15.035082\n",
       " 2017-06-13 15:22:25.625578+02:00                23.799856\n",
       " 2017-06-13 15:37:25.625578+02:00                27.524884,\n",
       "                                   ACC_y__skew__w=15m_s=15m\n",
       " timestamp                                                 \n",
       " 2017-06-13 14:22:25.625578+02:00                  1.492419\n",
       " 2017-06-13 14:37:25.625578+02:00                 -0.589390\n",
       " 2017-06-13 14:52:25.625578+02:00                  2.857569\n",
       " 2017-06-13 15:07:25.625578+02:00                  0.105150\n",
       " 2017-06-13 15:22:25.625578+02:00                 -1.297614\n",
       " 2017-06-13 15:37:25.625578+02:00                  3.016884\n",
       " 2017-06-13 15:52:25.625578+02:00                 -0.630380,\n",
       "                                   IBI__amin__w=15m_s=15m\n",
       " timestamp                                               \n",
       " 2017-06-13 14:22:25.625578+02:00                0.406269\n",
       " 2017-06-13 14:37:25.625578+02:00                0.656280\n",
       " 2017-06-13 14:52:25.625578+02:00                0.765660\n",
       " 2017-06-13 15:07:25.625578+02:00                0.625029\n",
       " 2017-06-13 15:22:25.625578+02:00                0.625029\n",
       " 2017-06-13 15:37:25.625578+02:00                0.328140\n",
       " 2017-06-13 15:52:25.625578+02:00                0.781286,\n",
       "                                   IBI__mean__w=15m_s=15m\n",
       " timestamp                                               \n",
       " 2017-06-13 14:22:25.625578+02:00                0.849224\n",
       " 2017-06-13 14:37:25.625578+02:00                0.928295\n",
       " 2017-06-13 14:52:25.625578+02:00                0.976397\n",
       " 2017-06-13 15:07:25.625578+02:00                0.901083\n",
       " 2017-06-13 15:22:25.625578+02:00                0.923011\n",
       " 2017-06-13 15:37:25.625578+02:00                0.701204\n",
       " 2017-06-13 15:52:25.625578+02:00                0.939105,\n",
       "                                   IBI__std__w=15m_s=15m\n",
       " timestamp                                              \n",
       " 2017-06-13 14:22:25.625578+02:00               0.120033\n",
       " 2017-06-13 14:37:25.625578+02:00               0.081081\n",
       " 2017-06-13 14:52:25.625578+02:00               0.056293\n",
       " 2017-06-13 15:07:25.625578+02:00               0.075061\n",
       " 2017-06-13 15:22:25.625578+02:00               0.085221\n",
       " 2017-06-13 15:37:25.625578+02:00               0.173316\n",
       " 2017-06-13 15:52:25.625578+02:00               0.097257,\n",
       "                                   IBI__amin__w=30m_s=15m\n",
       " timestamp                                               \n",
       " 2017-06-13 14:22:25.625578+02:00                0.406269\n",
       " 2017-06-13 14:37:25.625578+02:00                0.656280\n",
       " 2017-06-13 14:52:25.625578+02:00                0.625029\n",
       " 2017-06-13 15:07:25.625578+02:00                0.625029\n",
       " 2017-06-13 15:22:25.625578+02:00                0.328140\n",
       " 2017-06-13 15:37:25.625578+02:00                0.328140,\n",
       "                                   IBI__kurtosis__w=15m_s=15m\n",
       " timestamp                                                   \n",
       " 2017-06-13 14:22:25.625578+02:00                    2.893692\n",
       " 2017-06-13 14:37:25.625578+02:00                    1.392710\n",
       " 2017-06-13 14:52:25.625578+02:00                    1.100162\n",
       " 2017-06-13 15:07:25.625578+02:00                    1.527984\n",
       " 2017-06-13 15:22:25.625578+02:00                    1.661081\n",
       " 2017-06-13 15:37:25.625578+02:00                   -0.075751\n",
       " 2017-06-13 15:52:25.625578+02:00                   -0.326927,\n",
       "                                   ACC_y__kurtosis__w=30m_s=15m\n",
       " timestamp                                                     \n",
       " 2017-06-13 14:22:25.625578+02:00                     -1.397668\n",
       " 2017-06-13 14:37:25.625578+02:00                      1.933787\n",
       " 2017-06-13 14:52:25.625578+02:00                      6.595859\n",
       " 2017-06-13 15:07:25.625578+02:00                      6.226649\n",
       " 2017-06-13 15:22:25.625578+02:00                     -0.974338\n",
       " 2017-06-13 15:37:25.625578+02:00                     -0.830974,\n",
       "                                   IBI__mean__w=30m_s=15m\n",
       " timestamp                                               \n",
       " 2017-06-13 14:22:25.625578+02:00                0.907707\n",
       " 2017-06-13 14:37:25.625578+02:00                0.960814\n",
       " 2017-06-13 14:52:25.625578+02:00                0.944529\n",
       " 2017-06-13 15:07:25.625578+02:00                0.906565\n",
       " 2017-06-13 15:22:25.625578+02:00                0.880081\n",
       " 2017-06-13 15:37:25.625578+02:00                0.849892,\n",
       "                                   IBI__std__w=30m_s=15m\n",
       " timestamp                                              \n",
       " 2017-06-13 14:22:25.625578+02:00               0.099086\n",
       " 2017-06-13 14:37:25.625578+02:00               0.069129\n",
       " 2017-06-13 14:52:25.625578+02:00               0.074810\n",
       " 2017-06-13 15:07:25.625578+02:00               0.078304\n",
       " 2017-06-13 15:22:25.625578+02:00               0.139105\n",
       " 2017-06-13 15:37:25.625578+02:00               0.174474,\n",
       "                                   IBI__skew__w=15m_s=15m\n",
       " timestamp                                               \n",
       " 2017-06-13 14:22:25.625578+02:00               -1.109090\n",
       " 2017-06-13 14:37:25.625578+02:00               -0.085425\n",
       " 2017-06-13 14:52:25.625578+02:00               -0.108571\n",
       " 2017-06-13 15:07:25.625578+02:00                0.067652\n",
       " 2017-06-13 15:22:25.625578+02:00               -0.494098\n",
       " 2017-06-13 15:37:25.625578+02:00               -0.901926\n",
       " 2017-06-13 15:52:25.625578+02:00                0.286272,\n",
       "                                   IBI__kurtosis__w=30m_s=15m\n",
       " timestamp                                                   \n",
       " 2017-06-13 14:22:25.625578+02:00                    3.904794\n",
       " 2017-06-13 14:37:25.625578+02:00                    1.706329\n",
       " 2017-06-13 14:52:25.625578+02:00                    0.872234\n",
       " 2017-06-13 15:07:25.625578+02:00                    1.455227\n",
       " 2017-06-13 15:22:25.625578+02:00                    4.207521\n",
       " 2017-06-13 15:37:25.625578+02:00                    1.580245,\n",
       "                                   IBI__skew__w=30m_s=15m\n",
       " timestamp                                               \n",
       " 2017-06-13 14:22:25.625578+02:00               -0.962774\n",
       " 2017-06-13 14:37:25.625578+02:00               -0.436050\n",
       " 2017-06-13 14:52:25.625578+02:00               -0.360809\n",
       " 2017-06-13 15:07:25.625578+02:00               -0.070651\n",
       " 2017-06-13 15:22:25.625578+02:00               -1.695953\n",
       " 2017-06-13 15:37:25.625578+02:00               -1.097233,\n",
       "                                   ACC_y__skew__w=30m_s=15m\n",
       " timestamp                                                 \n",
       " 2017-06-13 14:22:25.625578+02:00                  0.301320\n",
       " 2017-06-13 14:37:25.625578+02:00                 -1.486820\n",
       " 2017-06-13 14:52:25.625578+02:00                 -0.079154\n",
       " 2017-06-13 15:07:25.625578+02:00                 -1.134380\n",
       " 2017-06-13 15:22:25.625578+02:00                  0.274374\n",
       " 2017-06-13 15:37:25.625578+02:00                  0.548848]"
      ]
     },
     "execution_count": 2,
     "metadata": {},
     "output_type": "execute_result"
    }
   ],
   "source": [
    "import pandas as pd; import numpy as np; import scipy.stats as ss\n",
    "from tsflex.features import MultipleFeatureDescriptors, FeatureCollection\n",
    "from tsflex.utils.data import load_empatica_data\n",
    "\n",
    "# 1. Load sequence-indexed data (in this case a time-index)\n",
    "df_tmp, df_acc, df_ibi = load_empatica_data(['tmp', 'acc', 'ibi'])\n",
    "\n",
    "# 2. Construct your feature extraction configuration\n",
    "fc = FeatureCollection(\n",
    "    MultipleFeatureDescriptors(\n",
    "          functions=[np.min, np.mean, np.std, ss.skew, ss.kurtosis],\n",
    "          series_names=[\"TMP\", \"ACC_x\", \"ACC_y\", \"IBI\"],\n",
    "          windows=[\"15min\", \"30min\"],\n",
    "          strides=\"15min\",\n",
    "    )\n",
    ")\n",
    "\n",
    "# 3. Extract features\n",
    "fc.calculate(data=[df_tmp, df_acc, df_ibi], approve_sparsity=True)"
   ]
  },
  {
   "cell_type": "code",
   "execution_count": 17,
   "id": "ad56be01",
   "metadata": {},
   "outputs": [
    {
     "data": {
      "text/plain": [
       "<AxesSubplot:xlabel='timestamp'>"
      ]
     },
     "execution_count": 17,
     "metadata": {},
     "output_type": "execute_result"
    },
    {
     "data": {
      "image/png": "[encoded data removed]",
      "text/plain": [
       "<Figure size 432x288 with 1 Axes>"
      ]
     },
     "metadata": {
      "needs_background": "light"
     },
     "output_type": "display_data"
    }
   ],
   "source": [
    "load_empatica_data(['ibi'])[0].plot()"
   ]
  },
  {
   "cell_type": "code",
   "execution_count": null,
   "id": "a20545a3",
   "metadata": {},
   "outputs": [],
   "source": []
  },
  {
   "cell_type": "code",
   "execution_count": null,
   "id": "40b1c96f",
   "metadata": {},
   "outputs": [],
   "source": []
  },
  {
   "cell_type": "code",
   "execution_count": null,
   "id": "8b8c4695",
   "metadata": {},
   "outputs": [],
   "source": []
  }
 ],
 "metadata": {
  "kernelspec": {
   "display_name": "Python 3 (ipykernel)",
   "language": "python",
   "name": "python3"
  },
  "language_info": {
   "codemirror_mode": {
    "name": "ipython",
    "version": 3
   },
   "file_extension": ".py",
   "mimetype": "text/x-python",
   "name": "python",
   "nbconvert_exporter": "python",
   "pygments_lexer": "ipython3",
   "version": "3.9.12"
  }
 },
 "nbformat": 4,
 "nbformat_minor": 5
}
