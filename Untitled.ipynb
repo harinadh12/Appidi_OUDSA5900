{
 "cells": [
  {
   "cell_type": "code",
   "execution_count": 1,
   "id": "f72e1b32",
   "metadata": {},
   "outputs": [],
   "source": [
    "import pickle"
   ]
  },
  {
   "cell_type": "code",
   "execution_count": 4,
   "id": "b2626ce0",
   "metadata": {},
   "outputs": [],
   "source": [
    "with open('../WESAD/S2/S2.pkl','rb') as f:\n",
    "    data = pickle.load(f, encoding='latin1')"
   ]
  },
  {
   "cell_type": "code",
   "execution_count": 8,
   "id": "a0e2dc97",
   "metadata": {},
   "outputs": [
    {
     "data": {
      "text/plain": [
       "(4255300, 3)"
      ]
     },
     "execution_count": 8,
     "metadata": {},
     "output_type": "execute_result"
    }
   ],
   "source": [
    "data['signal']['chest']['ACC'].shape"
   ]
  },
  {
   "cell_type": "code",
   "execution_count": 9,
   "id": "8aaa7a1e",
   "metadata": {},
   "outputs": [],
   "source": [
    "with open('../WESAD/S3/S3.pkl','rb') as f:\n",
    "    data = pickle.load(f, encoding='latin1')"
   ]
  },
  {
   "cell_type": "code",
   "execution_count": 12,
   "id": "84bb6b7a",
   "metadata": {},
   "outputs": [
    {
     "data": {
      "text/plain": [
       "(4545100, 3)"
      ]
     },
     "execution_count": 12,
     "metadata": {},
     "output_type": "execute_result"
    }
   ],
   "source": [
    "data['signal']['chest']['ACC'].shape"
   ]
  },
  {
   "cell_type": "code",
   "execution_count": 13,
   "id": "45ec2905",
   "metadata": {},
   "outputs": [
    {
     "data": {
      "text/plain": [
       "(207776, 3)"
      ]
     },
     "execution_count": 13,
     "metadata": {},
     "output_type": "execute_result"
    }
   ],
   "source": [
    "data['signal']['wrist']['ACC'].shape"
   ]
  },
  {
   "cell_type": "code",
   "execution_count": 15,
   "id": "0341a09b",
   "metadata": {},
   "outputs": [
    {
     "data": {
      "text/plain": [
       "6493.0"
      ]
     },
     "execution_count": 15,
     "metadata": {},
     "output_type": "execute_result"
    }
   ],
   "source": [
    "4545100/700"
   ]
  },
  {
   "cell_type": "code",
   "execution_count": 17,
   "id": "b7e5c53f",
   "metadata": {},
   "outputs": [
    {
     "data": {
      "text/plain": [
       "6493.0"
      ]
     },
     "execution_count": 17,
     "metadata": {},
     "output_type": "execute_result"
    }
   ],
   "source": [
    "207776/32"
   ]
  },
  {
   "cell_type": "code",
   "execution_count": null,
   "id": "2ec673dd",
   "metadata": {},
   "outputs": [],
   "source": []
  }
 ],
 "metadata": {
  "kernelspec": {
   "display_name": "Python 3 (ipykernel)",
   "language": "python",
   "name": "python3"
  },
  "language_info": {
   "codemirror_mode": {
    "name": "ipython",
    "version": 3
   },
   "file_extension": ".py",
   "mimetype": "text/x-python",
   "name": "python",
   "nbconvert_exporter": "python",
   "pygments_lexer": "ipython3",
   "version": "3.9.12"
  }
 },
 "nbformat": 4,
 "nbformat_minor": 5
}
